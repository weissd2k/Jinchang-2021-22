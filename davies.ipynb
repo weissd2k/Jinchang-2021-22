{
  "nbformat": 4,
  "nbformat_minor": 0,
  "metadata": {
    "colab": {
      "name": "davies.ipynb",
      "provenance": [],
      "include_colab_link": true
    },
    "kernelspec": {
      "name": "python3",
      "display_name": "Python 3"
    },
    "language_info": {
      "name": "python"
    }
  },
  "cells": [
    {
      "cell_type": "markdown",
      "metadata": {
        "id": "view-in-github",
        "colab_type": "text"
      },
      "source": [
        "<a href=\"https://colab.research.google.com/github/weissd2k/Jinchang-2021-22/blob/main/davies.ipynb\" target=\"_parent\"><img src=\"https://colab.research.google.com/assets/colab-badge.svg\" alt=\"Open In Colab\"/></a>"
      ]
    },
    {
      "cell_type": "markdown",
      "source": [
        "## The code to load the drive files."
      ],
      "metadata": {
        "id": "dCrS36SAt6ch"
      }
    },
    {
      "cell_type": "code",
      "execution_count": null,
      "metadata": {
        "colab": {
          "base_uri": "https://localhost:8080/"
        },
        "id": "bUARz_O_qVtY",
        "outputId": "d2039d82-17e9-4836-ff88-729da5d3e6fc"
      },
      "outputs": [
        {
          "output_type": "stream",
          "name": "stdout",
          "text": [
            "Drive already mounted at /content/gdrive/; to attempt to forcibly remount, call drive.mount(\"/content/gdrive/\", force_remount=True).\n"
          ]
        }
      ],
      "source": [
        "from google.colab import drive\n",
        "drive.mount('/content/gdrive/')"
      ]
    },
    {
      "cell_type": "markdown",
      "source": [
        "# Import library"
      ],
      "metadata": {
        "id": "OttQg44RuHbN"
      }
    },
    {
      "cell_type": "code",
      "source": [
        "! pip install fuzzywuzzy"
      ],
      "metadata": {
        "colab": {
          "base_uri": "https://localhost:8080/"
        },
        "id": "gOe1nUGUwZWq",
        "outputId": "433d46dc-1657-464e-b5fe-1385ac691fd0"
      },
      "execution_count": null,
      "outputs": [
        {
          "output_type": "stream",
          "name": "stdout",
          "text": [
            "Looking in indexes: https://pypi.org/simple, https://us-python.pkg.dev/colab-wheels/public/simple/\n",
            "Requirement already satisfied: fuzzywuzzy in /usr/local/lib/python3.7/dist-packages (0.18.0)\n"
          ]
        }
      ]
    },
    {
      "cell_type": "code",
      "source": [
        "import re\n",
        "import math\n",
        "import os\n",
        "from pandas.core.frame import DataFrame\n",
        "import matplotlib.pyplot as plt\n",
        "import numpy as np\n",
        "import tkinter\n",
        "import tkinter.messagebox\n",
        "import matplotlib.pyplot as plt\n",
        "import pandas as pd\n",
        "from fuzzywuzzy import process"
      ],
      "metadata": {
        "id": "g-85h4WBqpvH"
      },
      "execution_count": null,
      "outputs": []
    },
    {
      "cell_type": "markdown",
      "source": [
        "# Set the mental and ligand, which offerd by user in UI for py files. The UI can't excute in notebook"
      ],
      "metadata": {
        "id": "8EI8BKmruMa4"
      }
    },
    {
      "cell_type": "markdown",
      "source": [
        "Change this part of code to change the mental and ligand you want to study, exp: \"Fe\". \"EDTA\", Have to be same as the format in database."
      ],
      "metadata": {
        "id": "jgXDQX5h_RYj"
      }
    },
    {
      "cell_type": "markdown",
      "source": [
        "ligands: \n",
        "Diethylamine,Cyanide,Edta,Two_methylpyridine,Three_methylpyridine,Four_methylpyridine,Ethylenediamine,FeCyanide6,Para_acetate,Benzoate,Glutamate,Glycine,Citrate,Phthalate,Acetate,Propanoate,Butanoate,Propylamine,Npropylamine,Isopropylamine,Ethylenediamine,Phenylacetate,Nta,Propionate,Three_picoline,Butyrate,Four_picoline,Formate,Tartarate\n",
        "\n",
        "metal:\n",
        "Zn, Fe, Ni, Co, Mo "
      ],
      "metadata": {
        "id": "QjB6EBCSABFL"
      }
    },
    {
      "cell_type": "code",
      "source": [
        "mental = \"Zn\"\n",
        "ligand =\"Citrate\""
      ],
      "metadata": {
        "id": "aOyUBHuTq8Cv"
      },
      "execution_count": null,
      "outputs": []
    },
    {
      "cell_type": "markdown",
      "source": [
        "# Davies function"
      ],
      "metadata": {
        "id": "WYWe1dl7rwah"
      }
    },
    {
      "cell_type": "markdown",
      "source": [
        "## 1. Get all database files inside database folder"
      ],
      "metadata": {
        "id": "TmamhPq0ujta"
      }
    },
    {
      "cell_type": "code",
      "source": [
        "dirlast = \"/content/gdrive/MyDrive/IRP\"\n",
        "\n",
        "def readDir(dirPath):\n",
        "    allFiles = []\n",
        "    if os.path.isdir(dirPath):\n",
        "        fileList = os.listdir(dirPath)\n",
        "        for f in fileList:\n",
        "            if(f!=\"extraction\" and f!=\".DS_Store\"):    \n",
        "             f = dirPath+'/'+f\n",
        "             allFiles.append(f)\n",
        "    return allFiles "
      ],
      "metadata": {
        "id": "0DagWwNeqvwS"
      },
      "execution_count": null,
      "outputs": []
    },
    {
      "cell_type": "markdown",
      "source": [
        "## 2. Begin davies opreation"
      ],
      "metadata": {
        "id": "CdyoYVznurP7"
      }
    },
    {
      "cell_type": "markdown",
      "source": [
        "The output tabel include reaction, stability constant is generate in davies folder. The validate tabel include activity conficient is in validate folder. The figure of the logb/ionic strength is in lepfig folder."
      ],
      "metadata": {
        "id": "2Hre8U0k_Lkw"
      }
    },
    {
      "cell_type": "code",
      "source": [
        "def davies(mental,ligand):\n",
        "    logk = []\n",
        "    reaction = []\n",
        "    datafrom = []\n",
        "    z005 = []\n",
        "    z015 = []\n",
        "    z03 = []\n",
        "    z05 = []\n",
        "    z1 = []\n",
        "    v005 = []\n",
        "    v015 = []\n",
        "    v03 = []\n",
        "    v05 = []\n",
        "    v1 = []\n",
        "    \n",
        "    file = dirlast+ '/data'+'/minteq.v4' '.txt' \n",
        "    f = open(file,'r')\n",
        "    dataset = file[file.find(\"data\")+5:50].strip(\".txt\")\n",
        "    check = 0\n",
        "    check2 = 0\n",
        "    lines = f.readlines()\n",
        "    master =dirlast+ '/davies'+'/'+ 'MASTER_SPECIES' + '.txt'\n",
        "    outputs = open(master, 'w')\n",
        "    for i in range(len(lines)):\n",
        "          if check ==0:\n",
        "              if mental in lines[i]:\n",
        "                   outputs.write(lines[i])\n",
        "                   check = 2\n",
        "          if check2 ==0:\n",
        "              if ligand in lines[i]:\n",
        "                   outputs.write(lines[i])\n",
        "                   check2 = 3\n",
        "          if mental in lines[i]:\n",
        "             if ligand in lines[i]:\n",
        "             # if \"E\" in lines[i]:\n",
        "              if \"log_k\"in lines[i+1]:\n",
        "               judge = True\n",
        "               react = lines[i]\n",
        "               reaction.append(react)\n",
        "               k = lines[i+1][lines[i+1].find(\"k\")+1:20].strip()\n",
        "               logk.append(float(k))\n",
        "               datafrom.append(dataset)\n",
        "    \n",
        "    outputs.close()\n",
        "    k = 0 \n",
        "    txt = dirlast+ '/davies'+'/'+mental+ligand+ '.txt'  \n",
        "    output = open(txt, 'w') \n",
        "    tabel =dirlast+ '/davies'+'/'+ mental + ligand + '.csv' \n",
        "    validate = dirlast+ '/validate'+'/'+  mental + ligand + '.csv'\n",
        "    names = []\n",
        "    for r in reaction:\n",
        "     r = r.strip()\n",
        "     log_k = logk[k]\n",
        "     print(r)\n",
        "     output.write(r)\n",
        "     output.write(\"\\n\")\n",
        "     output.write(\"----------------------------------------------------\")\n",
        "     output.write(\"\\n\")\n",
        "     output.write(\"logk: \" + str(log_k))\n",
        "     print(log_k)\n",
        "     output.write(\"\\n\")\n",
        "     output.write(\"Find from: \"+datafrom[k])\n",
        "     output.write(\"\\n\")\n",
        "     output.write(\"\\n\")\n",
        "     output.write(\"----------------------------------------------------\")\n",
        "     output.write(\"\\n\")\n",
        "     symbol = []\n",
        "     num = []\n",
        "     k = k+1\n",
        "    \n",
        "     # 0 is on the left, 1 is on the right\n",
        "     position = []\n",
        "     amount = []\n",
        "     logb = []              \n",
        "     #Find all index of space\n",
        "     elements = [each.start() for each in re.finditer(\" \", r)]  \n",
        "     \n",
        "     number = int((len(elements)-2)/2+2)\n",
        "     \n",
        "     equal = r.find(\"=\")\n",
        "     name = r[equal+2:len(r)]\n",
        "     names.append(name)\n",
        "     \n",
        "     \n",
        "     # Do operation to the first elements eg. Zn+2 + 2Citrate-3 = Zn(Citrate)2-4\n",
        "     # Judge the first character if or not a digit\n",
        "     if r[0].isdigit():\n",
        "        amount.append(float(r[0]))\n",
        "     else:\n",
        "        amount.append(1.00)\n",
        "     # Judge the last character of first elements, which is 2 in this exp, if or not a digit\n",
        "     if r[elements[0]-1:elements[0]].isdigit():\n",
        "      num.append(float(r[elements[0]-1:elements[0]]))\n",
        "      # To find the +,- of the elements, do loop to check each character in Zn+2 if \n",
        "     #  or not a letter in this exp.\n",
        "      for i in range(0,elements[0]-1):   \n",
        "       if not r[i].isalnum():\n",
        "        if r[i] != \" \":\n",
        "          symbol.append(r[i])\n",
        "     # Else Judge the last character of first elements, is a letter or not, \n",
        "     #eg. H20 end of letter with 0 num.\n",
        "     elif r[elements[0]-1:elements[0]]==\"+\" or r[elements[0]-1:elements[0]]==\"-\" :\n",
        "        symbol.append(\"NA\")\n",
        "        num.append(1.00)\n",
        "      # Else if the last character of first elements, is +, - the num is 1.\n",
        "     else:\n",
        "        num.append(0.00)\n",
        "        symbol.append(r[elements[0]-1:elements[0]])\n",
        "    \n",
        "     position.append(0)\n",
        "     \n",
        "     for i in range(number):\n",
        "       # Do operation to the  elements between first and last\n",
        "       if i !=0 and i != number-1:\n",
        "        #  locate the location of them, same as before\n",
        "        if r[elements[i*2]-1:elements[i*2]].isdigit():\n",
        "         num.append(float(r[elements[i*2]-1:elements[i*2]]))\n",
        "         for j in range(elements[(i-1)*2+1],elements[i*2]-1):\n",
        "             if not r[j].isalnum():\n",
        "                 if r[j] != \" \":\n",
        "                  symbol.append(r[j])\n",
        "        elif r[elements[i*2]-1:elements[i*2]]==\"+\" or r[elements[i*2]-1:elements[i*2]]==\"-\":\n",
        "         symbol.append(\"NA\")\n",
        "         num.append(1.00)\n",
        "        else:\n",
        "             num.append(1.00)\n",
        "             symbol.append(r[elements[i*2]-1:elements[i*2]])  \n",
        "        # Juge it's position by compare with the \" = \"\n",
        "        if elements[i*2]-1 < equal:\n",
        "            position.append(0)\n",
        "        else:\n",
        "            position.append(1.00)\n",
        "    \n",
        "        if r[elements[i*2-1]+1:elements[i*2-1]+2].isdigit():\n",
        "         \n",
        "         amount.append(float(r[elements[i*2-1]+1:elements[i*2-1]+2]))\n",
        "        else:\n",
        "         amount.append(1.00)\n",
        "    # Do operation to the last one\n",
        "     if r[len(r)-1:len(r)].isdigit():\n",
        "      num.append(float(r[len(r)-1:len(r)]))\n",
        "      for i in range(elements[len(elements)-1],len(r)):   \n",
        "       if not r[i].isalnum():\n",
        "        if r[i] != \" \":\n",
        "          symbol.append(r[i])\n",
        "     elif r[len(r)-1:len(r)]==\"+\" or r[len(r)-1:len(r)]==\"-\":\n",
        "         symbol.append(\"NA\")\n",
        "         num.append(1.00)\n",
        "         \n",
        "     else:\n",
        "        num.append(0.00)\n",
        "        symbol.append(r[len(r)-1:len(r)])\n",
        "     position.append(1.00) \n",
        "    \n",
        "     if r[elements[len(elements)-1]+1].isdigit():\n",
        "        amount.append(float(r[elements[len(elements)-1]+1]))\n",
        "     else:\n",
        "        amount.append(1.00)\n",
        "              \n",
        "     cals1 = 0.0\n",
        "     cals2 = 0.0\n",
        "     cals3 = 0.0\n",
        "    \n",
        "     ionic = [0.05,0.15,0.3,0.5,1]\n",
        "     coe = []\n",
        "    # Do caculation to the full ionic dataset.\n",
        "     for ion in ionic:\n",
        "      cal = []\n",
        "      coefcient = 0.00\n",
        "      for i in range(len(position)):\n",
        "            cals1 = -0.51*num[i]*num[i]\n",
        "            cals2 =math.sqrt(ion)/(1+math.sqrt(ion)) - 0.3 * ion\n",
        "            cals3 = cals1*cals2*amount[i]\n",
        "            if position[i]==1:\n",
        "                cals3 = -cals3\n",
        "            cal.append(cals3)\n",
        "      for c in cal:\n",
        "        coefcient = coefcient +c\n",
        "      coe.append(coefcient) \n",
        "      \n",
        "    \n",
        "     for co in coe:\n",
        "        logB = co+log_k \n",
        "        logb.append(round(logB,3))\n",
        "     plot = logb\n",
        "     io = [0.05,0.15,0.3,0.5,1]\n",
        "     plt.plot(io, plot, ls=\"-\",color=\"r\",marker =\",\", lw=2, label=r)\n",
        "     plt.xlabel('Ionic Strength')\n",
        "     plt.ylabel('LogB')\n",
        "     plt.legend()\n",
        "     plt.savefig(dirlast+ '/daviesfig/'+name.strip()+'.jpg',bbox_inches='tight')\n",
        "     plt.show()\n",
        "     z005.append(logb[0])\n",
        "     z015.append(logb[1])\n",
        "     z03.append(logb[2])\n",
        "     z05.append(logb[3])\n",
        "     z1.append(logb[4])\n",
        "     v005.append(-coe[0])\n",
        "     v015.append(-coe[1])\n",
        "     v03.append(-coe[2])\n",
        "     v05.append(-coe[3])\n",
        "     v1.append(-coe[4])\n",
        "     for i in range(len(ionic)):\n",
        "        print(\"ionic \" + str(ionic[i])+\"： \" + str(-coe[i])) \n",
        "        print(\"logb when ionic \" + str(ionic[i])+\"： \" + str(logb[i]))\n",
        "        output.write(\"ionic \" + str(ionic[i])+\"： \" + str(logb[i]))\n",
        "        output.write(\"\\n\")\n",
        "        \n",
        "     output.write(\"----------------------------------------------------\")    \n",
        "     output.write(\"\\n\")\n",
        "    \n",
        "    output.close()\n",
        "    data = {\"Reaction\":reaction,\"logk\":logk,\"0.05\":z005,\"0.15\":z015,\"0.3\":z03,\"0.5\":z05,\"1\":z1}\n",
        "    dataframe=DataFrame(data)\n",
        "    dataframe.to_csv(tabel,index=False,sep=',')\n",
        "    \n",
        "    \n",
        "    datas = {\"species\":names,\"logk\":logk,\"0.05\":v005,\"0.15\":v015,\"0.3\":v03,\"0.5\":v05,\"1\":v1}\n",
        "    dataframe=DataFrame(datas)\n",
        "    dataframe.to_csv(validate,index=False,sep=',')\n",
        "    fileList = os.listdir(dirlast+ '/davies')\n",
        "    for fl in fileList:\n",
        "     if os.path.getsize(dirlast+ '/davies/'+fl) == 0:\n",
        "                os.remove(dirlast+ '/davies/'+fl)\n",
        "                return False\n",
        "    return True"
      ],
      "metadata": {
        "id": "y3go5agVqy-B"
      },
      "execution_count": null,
      "outputs": []
    },
    {
      "cell_type": "code",
      "source": [
        "davies(mental ,ligand)"
      ],
      "metadata": {
        "colab": {
          "base_uri": "https://localhost:8080/",
          "height": 1000
        },
        "id": "kpDKnG9HrCKX",
        "outputId": "a4318da4-4bbd-43ce-ded6-7a99680cda52"
      },
      "execution_count": null,
      "outputs": [
        {
          "output_type": "stream",
          "name": "stdout",
          "text": [
            "Zn+2 + Citrate-3 = Zn(Citrate)-\n",
            "6.21\n"
          ]
        },
        {
          "output_type": "display_data",
          "data": {
            "text/plain": [
              "<Figure size 432x288 with 1 Axes>"
            ],
            "image/png": "[encoded data removed]"
          },
          "metadata": {
            "needs_background": "light"
          }
        },
        {
          "output_type": "stream",
          "name": "stdout",
          "text": [
            "ionic 0.05： 1.0265932655051275\n",
            "logb when ionic 0.05： 5.183\n",
            "ionic 0.15： 1.43314800926934\n",
            "logb when ionic 0.15： 4.777\n",
            "ionic 0.3： 1.6150029313308807\n",
            "logb when ionic 0.3： 4.595\n",
            "ionic 0.5： 1.616987001723342\n",
            "logb when ionic 0.5： 4.593\n",
            "ionic 1： 1.224\n",
            "logb when ionic 1： 4.986\n",
            "Zn+2 + 2Citrate-3 = Zn(Citrate)2-4\n",
            "7.4\n"
          ]
        },
        {
          "output_type": "display_data",
          "data": {
            "text/plain": [
              "<Figure size 432x288 with 1 Axes>"
            ],
            "image/png": "[encoded data removed]"
          },
          "metadata": {
            "needs_background": "light"
          }
        },
        {
          "output_type": "stream",
          "name": "stdout",
          "text": [
            "ionic 0.05： 0.5132966327525637\n",
            "logb when ionic 0.05： 6.887\n",
            "ionic 0.15： 0.7165740046346698\n",
            "logb when ionic 0.15： 6.683\n",
            "ionic 0.3： 0.8075014656654407\n",
            "logb when ionic 0.3： 6.592\n",
            "ionic 0.5： 0.8084935008616707\n",
            "logb when ionic 0.5： 6.592\n",
            "ionic 1： 0.6120000000000001\n",
            "logb when ionic 1： 6.788\n",
            "Zn+2 + Citrate-3 + H+ = ZnH(Citrate)\n",
            "10.2\n"
          ]
        },
        {
          "output_type": "display_data",
          "data": {
            "text/plain": [
              "<Figure size 432x288 with 1 Axes>"
            ],
            "image/png": "[encoded data removed]"
          },
          "metadata": {
            "needs_background": "light"
          }
        },
        {
          "output_type": "stream",
          "name": "stdout",
          "text": [
            "ionic 0.05： 1.1976921430893153\n",
            "logb when ionic 0.05： 9.002\n",
            "ionic 0.15： 1.67200601081423\n",
            "logb when ionic 0.15： 8.528\n",
            "ionic 0.3： 1.8841700865526942\n",
            "logb when ionic 0.3： 8.316\n",
            "ionic 0.5： 1.886484835343899\n",
            "logb when ionic 0.5： 8.314\n",
            "ionic 1： 1.4280000000000002\n",
            "logb when ionic 1： 8.772\n",
            "Zn+2 + Citrate-3 + 2H+ = ZnH2(Citrate)+\n",
            "12.84\n"
          ]
        },
        {
          "output_type": "display_data",
          "data": {
            "text/plain": [
              "<Figure size 432x288 with 1 Axes>"
            ],
            "image/png": "[encoded data removed]"
          },
          "metadata": {
            "needs_background": "light"
          }
        },
        {
          "output_type": "stream",
          "name": "stdout",
          "text": [
            "ionic 0.05： 1.1976921430893155\n",
            "logb when ionic 0.05： 11.642\n",
            "ionic 0.15： 1.67200601081423\n",
            "logb when ionic 0.15： 11.168\n",
            "ionic 0.3： 1.884170086552694\n",
            "logb when ionic 0.3： 10.956\n",
            "ionic 0.5： 1.8864848353438992\n",
            "logb when ionic 0.5： 10.954\n",
            "ionic 1： 1.428\n",
            "logb when ionic 1： 11.412\n"
          ]
        },
        {
          "output_type": "execute_result",
          "data": {
            "text/plain": [
              "True"
            ]
          },
          "metadata": {},
          "execution_count": 34
        }
      ]
    },
    {
      "cell_type": "markdown",
      "source": [
        "## 3. Plot several lines of reactions inside one figure.`"
      ],
      "metadata": {
        "id": "9FcB3Md3u1uA"
      }
    },
    {
      "cell_type": "code",
      "source": [
        "tabel =dirlast+ '/davies'+'/'+mental+ligand+ '.csv' \n",
        "df = pd.read_csv(tabel)\n",
        "name = []\n",
        "ionic = [0.05,0.15,0.3,0.5,0.6]\n",
        "logb= []\n",
        "for i in range(0,3):\n",
        "    r = df.iloc[i,0]\n",
        "    equal = r.find(\"=\")\n",
        "    names = r[equal+2:len(r)].strip(\"\\n\")\n",
        "    name.append(names)\n",
        "    logbs = []\n",
        "    for j in range(2,7):\n",
        "       logbs.append(df.iloc[i,j])\n",
        "    logb.append(logbs)\n",
        "colors = ['r','y','c','g','b','k','r','y','c','g','b','k']\n",
        "a = \"\"\n",
        "for i in range(len(logb)):\n",
        " plt.plot(ionic,logb[i] , ls=\"-\",color=colors[i],marker =\",\", lw=2, label=name[i])\n",
        " a = name[i]+\"_\"+ a\n",
        "plt.xlabel('Ionic Strength')\n",
        "plt.ylabel('LogB')\n",
        "plt.legend()\n",
        "plt.savefig(dirlast+ '/daviesfig/'+a+'.jpg',bbox_inches='tight')\n",
        "plt.show()"
      ],
      "metadata": {
        "colab": {
          "base_uri": "https://localhost:8080/",
          "height": 279
        },
        "id": "nRyqBMvusBSK",
        "outputId": "d0a865d9-1ca6-4a52-9f59-02704fb23c75"
      },
      "execution_count": null,
      "outputs": [
        {
          "output_type": "display_data",
          "data": {
            "text/plain": [
              "<Figure size 432x288 with 1 Axes>"
            ],
            "image/png": "[encoded data removed]"
          },
          "metadata": {
            "needs_background": "light"
          }
        }
      ]
    },
    {
      "cell_type": "markdown",
      "source": [
        "# Get the LEP and draw the LEP by ph excel files."
      ],
      "metadata": {
        "id": "o_hQw_EgvZej"
      }
    },
    {
      "cell_type": "markdown",
      "source": [
        "The lep figure will be output in lepfig folder. The txt file include the information of lep is in lepout folder"
      ],
      "metadata": {
        "id": "2i_vb4kjBLu_"
      }
    },
    {
      "cell_type": "code",
      "source": [
        "tabel =dirlast+'/lepcsv/ph.csv' \n",
        "df = pd.read_csv(tabel)\n",
        "fraction = []\n",
        "name = []\n",
        "cur =[]\n",
        "w = []\n",
        "namee = \"\"\n",
        "namee = str(df.iloc[1,1]).strip(\"\\xa0\") + \"_\"+str(df.iloc[0,1]).strip(\"\\xa0\")\n",
        "for i in range(6):\n",
        " cur = []\n",
        " name.append(str(df.iloc[i,0])+df.iloc[i,1].strip(\"\\xa0\"))\n",
        " for j in range(2,18):\n",
        "    cur.append(float(df.iloc[i,j].strip(\"\\xa0\")))\n",
        " fraction.append(cur)\n",
        "    \n",
        "ph = [4 ,4.4 ,4.8 ,5.2 ,5.6 ,6 ,6.4 ,6.8 ,7.2 ,7.6 ,8 ,8.4 ,8.8 ,9.2 ,9.6 ,10]\n",
        "print()\n",
        "colors = ['r','r','c','c','b','b','y','y']\n",
        "c = ['ro','ro','co','co','bo','bo','yo','yo']\n",
        "lss = ['--','-','--','-','--','-','--','-']\n",
        "a = \"\"\n",
        "for i in range(len(fraction)):\n",
        " \n",
        "  plt.plot(ph,fraction[i] ,ls=lss[i],color=colors[i],marker =\",\", lw=1,label=name[i])\n",
        "  # Get the common range, from `max(x1[0], x2[0])` to `min(x1[-1], x2[-1])`   \n",
        "  cur = 0\n",
        "  mins = 10000\n",
        "  loc = -1\n",
        "  \n",
        "  if i%2 == 1:\n",
        "      for j in range(len(fraction[0])):\n",
        "           cur = abs(fraction[i-1][j]-fraction[i][j])\n",
        "           if cur<mins and fraction[i-1][j]<0.9 and fraction[i-1][j]>0.02 and fraction[i][j]<0.9 and fraction[i][j]>0.02:\n",
        "               mins = cur\n",
        "               loc = j\n",
        "      if loc !=-1:\n",
        "       #Get the point to be infinitely close\n",
        "       x3 = np.linspace(ph[loc], ph[loc+1], 10000)       \n",
        "       y1_new = np.linspace(fraction[i-1][loc], fraction[i-1][loc+1], 10000) \n",
        "       y2_new = np.linspace(fraction[i][loc], fraction[i][loc+1], 10000) \n",
        "       idx = np.argwhere(np.isclose(y1_new, y2_new, atol=0.0001)).reshape(-1)\n",
        "       if idx.any():\n",
        "        plt.plot(x3[idx], y2_new[idx], c[i])\n",
        "       else:\n",
        "        x3 = np.linspace(ph[loc-1], ph[loc], 10000)       \n",
        "        y1_new = np.linspace(fraction[i-1][loc-1], fraction[i-1][loc], 10000)\n",
        "        y2_new = np.linspace(fraction[i][loc-1], fraction[i][loc], 10000)  \n",
        "        idx = np.argwhere(np.isclose(y1_new, y2_new, atol=0.0001)).reshape(-1)\n",
        "        plt.plot(x3[idx], y2_new[idx], c[i])\n",
        "       w.append([df.iloc[i,0],round(max(x3[idx]),3), round(max(y2_new[idx]),3)])\n",
        " \n",
        "plt.xlabel('ph')\n",
        "plt.ylabel('fraction of complexed Zinc')\n",
        "\n",
        "plt.legend()\n",
        "plt.savefig(dirlast+ '/lepfig/'+namee+'_ph.jpg',bbox_inches='tight')\n",
        "plt.show()\n",
        "\n",
        "outputs = open(dirlast+ '/lepout/'+namee+'_ph.txt', 'w')\n",
        "for i in range(len(w)):\n",
        "  outputs.write(\"ionic strength:\"+str(w[i][0]))\n",
        "  outputs.write(\"\\n\")\n",
        "  outputs.write(\"ph:\"+str(w[i][1]))\n",
        "  outputs.write(\"\\n\")\n",
        "  outputs.write(\"Fraction:\"+str(w[i][2]))\n",
        "  outputs.write(\"\\n\")\n",
        "  outputs.write(\"---------------------------------\")\n",
        "  outputs.write(\"\\n\")\n",
        "outputs.close()"
      ],
      "metadata": {
        "id": "-0_uqPUxsoEd",
        "colab": {
          "base_uri": "https://localhost:8080/",
          "height": 296
        },
        "outputId": "797f60a5-1f28-4ce9-b60f-8b77c1b3cfea"
      },
      "execution_count": null,
      "outputs": [
        {
          "output_type": "stream",
          "name": "stdout",
          "text": [
            "\n"
          ]
        },
        {
          "output_type": "display_data",
          "data": {
            "text/plain": [
              "<Figure size 432x288 with 1 Axes>"
            ],
            "image/png": "[encoded data removed]"
          },
          "metadata": {
            "needs_background": "light"
          }
        }
      ]
    },
    {
      "cell_type": "markdown",
      "source": [
        "# Get the LEP and draw the LEP by ionic excel files."
      ],
      "metadata": {
        "id": "qbV8QCX8vk4l"
      }
    },
    {
      "cell_type": "code",
      "source": [
        "tabel =dirlast+'/lepcsv/ionic.csv' \n",
        "df = pd.read_csv(tabel)\n",
        "fraction = []\n",
        "name = []\n",
        "cur =[]\n",
        "w = []\n",
        "namee = \"\"\n",
        "namee = str(df.iloc[1,1]).strip(\"\\xa0\") + \"_\"+str(df.iloc[0,1]).strip(\"\\xa0\")\n",
        "\n",
        "for i in range(6):\n",
        " cur = []\n",
        " name.append(str(df.iloc[i,0])+df.iloc[i,1].strip(\"\\xa0\"))\n",
        " for j in range(2,11):\n",
        "    cur.append(float(df.iloc[i,j]))\n",
        " fraction.append(cur)\n",
        "    \n",
        "ionic = [ 0, 0.005 ,0.05 ,0.1 ,0.2 ,0.4,0.6 ,0.8,1]\n",
        "\n",
        "colors = ['r','r','c','c','b','b','y','y']\n",
        "c = ['ro','ro','co','co','bo','bo','yo','yo']\n",
        "lss = ['--','-','--','-','--','-','--','-']\n",
        "a = \"\"\n",
        "print(fraction)\n",
        "for i in range(len(fraction)):\n",
        " \n",
        "  plt.plot(ionic,fraction[i] ,ls=lss[i],color=colors[i],marker =\",\", lw=1,label=name[i])\n",
        "  # Get the common range, from `max(x1[0], x2[0])` to `min(x1[-1], x2[-1])`   \n",
        "  cur = 0\n",
        "  mins = 10000\n",
        "  loc = -1\n",
        "  \n",
        "  if i%2 == 1:\n",
        "        for j in range(len(fraction[0])):\n",
        "             cur = abs(fraction[i-1][j]-fraction[i][j])\n",
        "             if cur<mins and fraction[i-1][j]<0.9 and fraction[i-1][j]>0.02 and fraction[i][j]<0.9 and fraction[i][j]>0.02:\n",
        "                 mins = cur\n",
        "                 loc = j\n",
        "        #Get the point to be infinitely close\n",
        "        if loc !=-1:\n",
        "         x3 = np.linspace(ionic[loc], ionic[loc+1], 10000)        \n",
        "         y1_new = np.linspace(fraction[i-1][loc], fraction[i-1][loc+1], 10000) \n",
        "         y2_new = np.linspace(fraction[i][loc], fraction[i][loc+1], 10000)  \n",
        "         idx = np.argwhere(np.isclose(y1_new, y2_new, atol=0.0001)).reshape(-1)\n",
        "         if idx.any():\n",
        "          plt.plot(x3[idx], y2_new[idx], c[i])\n",
        "         else:\n",
        "          x3 = np.linspace(ionic[loc-1], ionic[loc], 10000)       \n",
        "          y1_new = np.linspace(fraction[i-1][loc-1], fraction[i-1][loc], 10000) \n",
        "          y2_new = np.linspace(fraction[i][loc-1], fraction[i][loc], 10000) \n",
        "          idx = np.argwhere(np.isclose(y1_new, y2_new, atol=0.0001)).reshape(-1)\n",
        "          plt.plot(x3[idx], y2_new[idx], c[i])\n",
        "         w.append([df.iloc[i,0],round(max(x3[idx]),3), round(max(y2_new[idx]),3)])  \n",
        " \n",
        "plt.xlabel('ionic')\n",
        "plt.ylabel('fraction of complexed Zinc')\n",
        "\n",
        "plt.legend()\n",
        "plt.savefig(dirlast+ '/lepfig/'+namee+'_ion.jpg',bbox_inches='tight')\n",
        "plt.show()\n",
        "\n",
        "outputs = open(dirlast+ '/lepout/'+namee+'_ion.txt', 'w')\n",
        "\n",
        "for i in range(len(w)):\n",
        "  outputs.write(\"ph:\"+str(w[i][0]))\n",
        "  outputs.write(\"\\n\")\n",
        "  outputs.write(\"ion:\"+str(w[i][1]))\n",
        "  outputs.write(\"\\n\")\n",
        "  outputs.write(\"Fraction:\"+str(w[i][2]))\n",
        "  outputs.write(\"\\n\")\n",
        "  outputs.write(\"---------------------------------\")\n",
        "  outputs.write(\"\\n\")\n",
        "outputs.close()\n",
        "print(w)"
      ],
      "metadata": {
        "id": "L8gwf5LJs8zD",
        "colab": {
          "base_uri": "https://localhost:8080/",
          "height": 333
        },
        "outputId": "78496013-74ee-4c2a-d1b7-c3c8e8cc8eb8"
      },
      "execution_count": null,
      "outputs": [
        {
          "output_type": "stream",
          "name": "stdout",
          "text": [
            "[[0.052, 0.04, 0.025, 0.019, 0.014, 0.009, 0.007, 0.005, 0.004], [0.0, 0.0, 0.0, 0.0, 0.0, 0.0, 0.0, 0.0, 0.0], [0.914, 0.848, 0.644, 0.502, 0.342, 0.193, 0.129, 0.093, 0.071], [0.195, 0.175, 0.144, 0.13, 0.118, 0.111, 0.106, 0.104, 0.106], [0.965, 0.917, 0.727, 0.576, 0.393, 0.22, 0.146, 0.104, 0.08], [1.0, 1.0, 1.0, 1.0, 1.0, 1.0, 1.0, 1.0, 1.0]]\n"
          ]
        },
        {
          "output_type": "display_data",
          "data": {
            "text/plain": [
              "<Figure size 432x288 with 1 Axes>"
            ],
            "image/png": "[encoded data removed]"
          },
          "metadata": {
            "needs_background": "light"
          }
        },
        {
          "output_type": "stream",
          "name": "stdout",
          "text": [
            "[[6, 0.736, 0.105]]\n"
          ]
        }
      ]
    },
    {
      "cell_type": "markdown",
      "source": [
        "# The code to search from the database\n"
      ],
      "metadata": {
        "id": "bxdzhHVbv8Sw"
      }
    },
    {
      "cell_type": "markdown",
      "source": [
        "The serach result tabel will generate in tabel folder"
      ],
      "metadata": {
        "id": "ugrNRzCcBXMB"
      }
    },
    {
      "cell_type": "code",
      "source": [
        "# fix search Extract\n",
        "def extract(text):\n",
        "  # The path of the output files.\n",
        "  tabel =dirlast+ '/tabel'+'/'+ text + '.csv'\n",
        "  logk = []\n",
        "  reaction = []\n",
        "  datafrom = []\n",
        "  #Read files \n",
        "  for file in readDir(dirlast+\"/data\"):\n",
        "    f = open(file,'r')\n",
        "    # Save the dataset this search result from \n",
        "    dataset = file[file.find(\"data\")+5:50].strip(\".txt\")\n",
        "    check = 0\n",
        "    lines = f.readlines()\n",
        "    linenumber = 0\n",
        "    # Begin the search\n",
        "    for i in range(len(lines)-2):\n",
        "      # First ensure the search text is in this line, and then ensure it is a reaction by \"=\"\n",
        "      if text in lines[i] and  \"=\" in lines[i]:\n",
        "          # There is two format of logk, neighboor and two lines behind the last one.\n",
        "          if \"log_k\"in lines[i+1]:\n",
        "           linenumber = i+1\n",
        "          if \"log_k\"in lines[i+2]:\n",
        "           linenumber = i+2\n",
        "          # Extract logK according to the different situation\n",
        "          if \"log_k\"in lines[i+1] or \"log_k\"in lines[i+2]:\n",
        "          # Get the reaction\n",
        "           react = lines[i].strip().strip('#').strip()\n",
        "           reaction.append(react)\n",
        "           # Get logk\n",
        "           k = lines[linenumber][lines[linenumber].find(\"k\")+1:50].strip()\n",
        "           # only save the logk when k not euaql to  0\n",
        "           if k != 0:\n",
        "            logk.append(k)\n",
        "            datafrom.append(dataset)\n",
        "            # Write the output file.\n",
        "            \n",
        "            # Save the data into dataframe \n",
        "            data = {\"Reaction\":reaction,\"logk\":logk,\"dataset\":datafrom}\n",
        "            dataframe=DataFrame(data)\n",
        "            # Save the dataframe to the csv file.\n",
        "            dataframe.to_csv(tabel,index=False,sep=',')\n",
        "  return dataframe\n",
        "\n",
        "\n",
        "def fuzzyextract(text,number = 100):\n",
        "  # The path of the output files.\n",
        "  tabel =dirlast+ '/tabel'+'/'+ text + '.csv'\n",
        "  # List conclude all logk value.\n",
        "  logk = []\n",
        "  # List conclude all reaction text.\n",
        "  reaction = []\n",
        "  # List conclude all dataset the reaction from.\n",
        "  datafrom = []\n",
        "  logknew = []\n",
        "  reactionnew = []\n",
        "  datafromnew = []\n",
        "  name = []\n",
        "  namenew = []\n",
        "  \n",
        "  for file in readDir(dirlast+\"/data\"):\n",
        "    f = open(file,'r')\n",
        "    dataset = file[file.find(\"data\")+5:50].strip(\".txt\")\n",
        "    check = 0\n",
        "    ks = 0.02\n",
        "    lines = f.readlines()\n",
        "    checkifexist = False\n",
        "    linenumber = 0\n",
        "    for i in range(len(lines)-2):\n",
        "      checks = False\n",
        "      # Save all the reactions\n",
        "      if  \"=\" in lines[i]:\n",
        "         # if \"E\" in lines[i]:\n",
        "          if \"log_k\"in lines[i+1]:\n",
        "           linenumber = i+1\n",
        "           checks = True\n",
        "          if \"log_k\"in lines[i+2]:\n",
        "           linenumber = i+2\n",
        "           checks = True\n",
        "          ks = lines[linenumber][lines[linenumber].find(\"k\")+1:50].strip()\n",
        "          \n",
        "          if \"#\" in ks:\n",
        "               ks = ks[0: ks.find(\"#\")-2]\n",
        "          if checks==True:\n",
        "           \n",
        "           react = lines[i].strip().strip('#').strip()\n",
        "           named = lines[i-1].strip()\n",
        "           reaction.append(react)\n",
        "           name.append(named)\n",
        "           k = ks\n",
        "           logk.append(k)\n",
        "           datafrom.append(dataset)\n",
        "  # Do fuzzy serach to the all reactions to match the search text.\n",
        "  m = process.extract(text, reaction, limit=number)  \n",
        "  # Save the serach result.\n",
        "  for j in range(len(reaction)):\n",
        "      for best in m:\n",
        "          if best[0] in reaction[j]:\n",
        "            if check== 0:\n",
        "              reactionnew.append(best[0])\n",
        "              datafromnew.append(datafrom[j])\n",
        "              logknew.append(logk[j])\n",
        "              namenew.append(name[j])\n",
        "              check = check+1\n",
        "            else:\n",
        "                for o in range(len(reactionnew)):\n",
        "                    if best[0] in reactionnew[o] and logk[j] in logknew[o]:\n",
        "                        checkifexist = True\n",
        "                if checkifexist == False:\n",
        "                       reactionnew.append(best[0])\n",
        "                       datafromnew.append(datafrom[j])\n",
        "                       logknew.append(logk[j])\n",
        "                       namenew.append(name[j]) \n",
        "                checkifexist = False\n",
        "               \n",
        "  data = {\"Reaction\":reactionnew,\"logk\":logknew,\"dataset\":datafromnew,\"name\":namenew}\n",
        "           \n",
        "  dataframe=DataFrame(data)\n",
        "        \n",
        "  dataframe.to_csv(tabel,index=False,sep=',')      \n",
        "  fileList = os.listdir(dirlast+ '/tabel')\n",
        "  for fl in fileList:\n",
        "     if os.path.getsize(dirlast+ '/tabel/'+fl) == 0:\n",
        "                os.remove(dirlast+ '/tabel/'+fl)\n",
        "                return False\n",
        "  return dataframe"
      ],
      "metadata": {
        "id": "KQXxZP0evv4h"
      },
      "execution_count": null,
      "outputs": []
    },
    {
      "cell_type": "markdown",
      "source": [
        "Give the search text and the fuzzy searchtext, number"
      ],
      "metadata": {
        "id": "THonlGPGwlUi"
      }
    },
    {
      "cell_type": "code",
      "source": [
        "search  =\"ZnEdta\"\n",
        "fuzzy = \"FES\"\n",
        "Number = 100"
      ],
      "metadata": {
        "id": "2n8JyVZSwja2"
      },
      "execution_count": null,
      "outputs": []
    },
    {
      "cell_type": "markdown",
      "source": [
        "Run the seach code, the output file will in the tabel folder and the output folder"
      ],
      "metadata": {
        "id": "uXVVO2dpxcIE"
      }
    },
    {
      "cell_type": "code",
      "source": [
        "print(fuzzyextract(fuzzy,number = 100))"
      ],
      "metadata": {
        "id": "Az0x0WP2xMY0",
        "colab": {
          "base_uri": "https://localhost:8080/"
        },
        "outputId": "7318a6b7-446b-4c40-8e46-0901d5201235"
      },
      "execution_count": null,
      "outputs": [
        {
          "output_type": "stream",
          "name": "stdout",
          "text": [
            "                          Reaction      logk         dataset  \\\n",
            "0                          e- = e-       0.0  Tipping_Hurley   \n",
            "1                          F- = F-       0.0  Tipping_Hurley   \n",
            "2                      Fe+2 = Fe+2       0.0  Tipping_Hurley   \n",
            "3                 Fe+2 = Fe+3 + e-   -13.020  Tipping_Hurley   \n",
            "4         Fe+3 + H2O = FeOH+2 + H+     -2.19  Tipping_Hurley   \n",
            "..                             ...       ...             ...   \n",
            "79           FeS + H+ = Fe+2 + HS-     -2.95       minteq.v4   \n",
            "80           FeS + H+ = Fe+2 + HS-      -3.6       minteq.v4   \n",
            "81  FeS2 + 2H+ + 2e- = Fe+2 + 2HS-  -18.5082       minteq.v4   \n",
            "82         FeSe + H+ = Fe+2 + HSe-       -11       minteq.v4   \n",
            "83            FeCO3 = Fe+2 + CO3-2    -10.24       minteq.v4   \n",
            "\n",
            "                                 name  \n",
            "0          #e- primary master species  \n",
            "1          #F- primary master species  \n",
            "2        #Fe+2 primary master species  \n",
            "3   #Fe+3 secondary master species  0  \n",
            "4              #FeOH+2              1  \n",
            "..                                ...  \n",
            "79                           FeS(ppt)  \n",
            "80                        Mackinawite  \n",
            "81                             Pyrite  \n",
            "82                               FeSe  \n",
            "83                           Siderite  \n",
            "\n",
            "[84 rows x 4 columns]\n"
          ]
        }
      ]
    },
    {
      "cell_type": "code",
      "source": [
        "print(extract(search))"
      ],
      "metadata": {
        "id": "tF9JWnuPxxum",
        "colab": {
          "base_uri": "https://localhost:8080/"
        },
        "outputId": "30974bb1-10a6-4947-f82d-7c1d81779fe2"
      },
      "execution_count": null,
      "outputs": [
        {
          "output_type": "stream",
          "name": "stdout",
          "text": [
            "                   Reaction   logk dataset\n",
            "0  Zn+2 + Edta-4 = ZnEdta-2  16.44  minteq\n"
          ]
        }
      ]
    }
  ]
}